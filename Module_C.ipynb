{
  "nbformat": 4,
  "nbformat_minor": 0,
  "metadata": {
    "colab": {
      "provenance": [],
      "toc_visible": true,
      "authorship_tag": "ABX9TyOYG1g4viSVU7Mzg0h7Tt0m",
      "include_colab_link": true
    },
    "kernelspec": {
      "name": "python3",
      "display_name": "Python 3"
    },
    "language_info": {
      "name": "python"
    }
  },
  "cells": [
    {
      "cell_type": "markdown",
      "metadata": {
        "id": "view-in-github",
        "colab_type": "text"
      },
      "source": [
        "<a href=\"https://colab.research.google.com/github/ywan1416/MAT421/blob/main/Module_C.ipynb\" target=\"_parent\"><img src=\"https://colab.research.google.com/assets/colab-badge.svg\" alt=\"Open In Colab\"/></a>"
      ]
    },
    {
      "cell_type": "markdown",
      "source": [
        "# Root Finding Problem Statement"
      ],
      "metadata": {
        "id": "xYV6R05kLPgq"
      }
    },
    {
      "cell_type": "code",
      "execution_count": 1,
      "metadata": {
        "colab": {
          "base_uri": "https://localhost:8080/"
        },
        "id": "3A25YyLsK8Nx",
        "outputId": "63a847b0-7fa7-43fa-f624-56d2f4aaed39"
      },
      "outputs": [
        {
          "output_type": "stream",
          "name": "stdout",
          "text": [
            "Root of cos(x) - x: [0.73908513]\n",
            "Verification f(root1) = [0.]\n",
            "\n",
            "Attempt to find root of 1/x:\n",
            "Root found: [-3.52047359e+83]\n",
            "Function value at root: [-2.84052692e-84]\n",
            "Solver message: The number of calls to function has reached maxfev = 400.\n"
          ]
        }
      ],
      "source": [
        "import numpy as np\n",
        "from scipy import optimize\n",
        "\n",
        "def func1(x):\n",
        "    return np.cos(x) - x\n",
        "\n",
        "root1 = optimize.fsolve(func1, -2)\n",
        "\n",
        "print(\"Root of cos(x) - x:\", root1)\n",
        "print(\"Verification f(root1) =\", func1(root1))\n",
        "\n",
        "def func2(x):\n",
        "    return 1/x\n",
        "\n",
        "root2, infodict, ier, mesg = optimize.fsolve(func2, -2, full_output=True)\n",
        "\n",
        "print(\"\\nAttempt to find root of 1/x:\")\n",
        "print(\"Root found:\", root2)\n",
        "print(\"Function value at root:\", func2(root2))\n",
        "print(\"Solver message:\", mesg)"
      ]
    },
    {
      "cell_type": "markdown",
      "source": [
        "# Tolerance"
      ],
      "metadata": {
        "id": "PxL2Drn6LQCm"
      }
    },
    {
      "cell_type": "markdown",
      "source": [
        "The maximum acceptable error range between the computed value and the expected value in a computational program. Using Absolute Function Error, one can intuitively observe whether the function value is close to zero. On the other hand, Relative Approximate Error generally leads to faster convergence."
      ],
      "metadata": {
        "id": "aa255oZHLlL0"
      }
    },
    {
      "cell_type": "code",
      "source": [
        "import numpy as np\n",
        "from scipy.optimize import fsolve\n",
        "\n",
        "def f(x):\n",
        "    return np.cos(x) - x\n",
        "\n",
        "x0 = 0.5\n",
        "\n",
        "root = fsolve(f, x0, xtol=1e-6)\n",
        "\n",
        "print(\"Root found:\", root)\n",
        "print(\"Function value at root:\", f(root))\n"
      ],
      "metadata": {
        "colab": {
          "base_uri": "https://localhost:8080/"
        },
        "id": "z5ND8vDfRdNC",
        "outputId": "82e52cbd-de71-45d9-ce4b-b1cfbd027458"
      },
      "execution_count": 3,
      "outputs": [
        {
          "output_type": "stream",
          "name": "stdout",
          "text": [
            "Root found: [0.73908513]\n",
            "Function value at root: [8.8817842e-16]\n"
          ]
        }
      ]
    },
    {
      "cell_type": "markdown",
      "source": [
        "# Bisection Method"
      ],
      "metadata": {
        "id": "24u1q4aOLPme"
      }
    },
    {
      "cell_type": "markdown",
      "source": [
        "It's based on Intermediate Value Theorem, use for Continuous function."
      ],
      "metadata": {
        "id": "_MqYSA_KRbaD"
      }
    },
    {
      "cell_type": "code",
      "source": [
        "import numpy as np\n",
        "\n",
        "def bisection_method(f, a, b, tol):\n",
        "    if np.sign(f(a)) == np.sign(f(b)):\n",
        "        raise ValueError(\"The interval [a, b] does not contain a root. Choose a different range.\")\n",
        "\n",
        "    while (b - a) / 2 > tol:\n",
        "        m = (a + b) / 2\n",
        "        if np.abs(f(m)) < tol:\n",
        "            return m\n",
        "        elif np.sign(f(a)) == np.sign(f(m)):\n",
        "            a = m\n",
        "        else:\n",
        "            b = m\n",
        "\n",
        "    return (a + b) / 2\n",
        "\n",
        "def f(x):\n",
        "    return x**2 - 2\n",
        "\n",
        "a, b = 0, 2\n",
        "tolerance = 1e-6\n",
        "\n",
        "root = bisection_method(f, a, b, tolerance)\n",
        "print(\"Approximate root:\", root)\n",
        "print(\"Function value at root:\", f(root))\n"
      ],
      "metadata": {
        "colab": {
          "base_uri": "https://localhost:8080/"
        },
        "id": "eUu-kXJoS5a5",
        "outputId": "35ca3335-11af-42e2-f3ae-5a056305055d"
      },
      "execution_count": 4,
      "outputs": [
        {
          "output_type": "stream",
          "name": "stdout",
          "text": [
            "Approximate root: 1.4142141342163086\n",
            "Function value at root: 1.6174171832972206e-06\n"
          ]
        }
      ]
    },
    {
      "cell_type": "markdown",
      "source": [
        "#Newton-Raphson Method\n",
        "\n"
      ],
      "metadata": {
        "id": "E_Tg2YBHLWqo"
      }
    },
    {
      "cell_type": "markdown",
      "source": [
        "Used to solve nonlinear equations, allowing for faster convergence to the root. At x_n, it finds the tangent of f(x) and determines the intersection of the tangent with the x-axis to approximate the root.\n",
        "\n",
        "\n",
        "\n",
        "\n",
        "\n",
        "\n",
        "\n"
      ],
      "metadata": {
        "id": "oEe_FOMbLluP"
      }
    },
    {
      "cell_type": "code",
      "source": [
        "import numpy as np\n",
        "\n",
        "def newton_raphson(f, df, x0, tol=1e-6, max_iter=100):\n",
        "    x = x0\n",
        "    for i in range(max_iter):\n",
        "        fx = f(x)\n",
        "        dfx = df(x)\n",
        "\n",
        "        if abs(fx) < tol:\n",
        "            return x\n",
        "\n",
        "        if dfx == 0:\n",
        "            raise ValueError(\"Derivative is zero, Newton-Raphson method fails!\")\n",
        "\n",
        "        x = x - fx / dfx\n",
        "    raise ValueError(\"Maximum iterations reached, solution did not converge.\")\n",
        "\n",
        "f = lambda x: x**2 - 2\n",
        "df = lambda x: 2*x\n",
        "x0 = 1.5\n",
        "root = newton_raphson(f, df, x0)\n",
        "\n",
        "print(\"Approximate root:\", root)\n",
        "print(\"Function value at root:\", f(root))\n"
      ],
      "metadata": {
        "colab": {
          "base_uri": "https://localhost:8080/"
        },
        "id": "qGv11TjxXPjt",
        "outputId": "22ec2877-f73f-4800-9545-7e108d0e2736"
      },
      "execution_count": 5,
      "outputs": [
        {
          "output_type": "stream",
          "name": "stdout",
          "text": [
            "Approximate root: 1.4142135623746899\n",
            "Function value at root: 4.510614104447086e-12\n"
          ]
        }
      ]
    }
  ]
}
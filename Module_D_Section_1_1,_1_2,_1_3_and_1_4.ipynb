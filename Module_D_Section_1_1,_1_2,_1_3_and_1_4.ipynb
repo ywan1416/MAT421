{
  "nbformat": 4,
  "nbformat_minor": 0,
  "metadata": {
    "colab": {
      "provenance": [],
      "toc_visible": true,
      "authorship_tag": "ABX9TyPumByosAqJZ66ZQDXTS1tA",
      "include_colab_link": true
    },
    "kernelspec": {
      "name": "python3",
      "display_name": "Python 3"
    },
    "language_info": {
      "name": "python"
    }
  },
  "cells": [
    {
      "cell_type": "markdown",
      "metadata": {
        "id": "view-in-github",
        "colab_type": "text"
      },
      "source": [
        "<a href=\"https://colab.research.google.com/github/ywan1416/MAT421/blob/main/Module_D_Section_1_1%2C_1_2%2C_1_3_and_1_4.ipynb\" target=\"_parent\"><img src=\"https://colab.research.google.com/assets/colab-badge.svg\" alt=\"Open In Colab\"/></a>"
      ]
    },
    {
      "cell_type": "markdown",
      "source": [
        "# Linear Algebra"
      ],
      "metadata": {
        "id": "yuBSqdzaXOy1"
      }
    },
    {
      "cell_type": "markdown",
      "source": [
        "Linear space: as a vector space, is a fundamental concept in linear algebra. It is a set of vectors that is closed under two operations: vector addition and scalar multiplication. These operations must satisfy a set of eight axioms, ensuring properties such as associativity, commutativity, the existence of a zero vector, and the existence of additive inverses. Additionally, scalar multiplication must be distributive and associative with respect to real numbers (or elements from a given field). A vector space provides the foundational structure for various mathematical and applied disciplines, including geometry, physics, and data science."
      ],
      "metadata": {
        "id": "qeX2hXu_XKgJ"
      }
    },
    {
      "cell_type": "markdown",
      "source": [
        "Orthogonality describes a special relationship between vectors in a vector space. Two vectors are said to be orthogonal if their inner product (or dot product) is equal to zero. This means that the vectors are perpendicular to each other in Euclidean space. Orthogonality is a crucial concept in linear algebra, playing a key role in areas such as orthonormal bases, projections, and matrix decompositions. It is widely used in applications like signal processing, machine learning, and numerical analysis, where orthogonal transformations simplify computations and preserve vector norms."
      ],
      "metadata": {
        "id": "bMsVsSy0XQK9"
      }
    },
    {
      "cell_type": "markdown",
      "source": [
        "Eigenvalues are an important concept associated with square matrices in linear algebra. Given a square matrix \\( A \\), a scalar \\( \\lambda \\) is called an eigenvalue of \\( A \\) if there exists a nonzero vector \\( x \\) such that:\n",
        "\n",
        "\\[\n",
        "Ax = \\lambda x\n",
        "\\]\n",
        "\n",
        "Here, \\( x \\) is known as the eigenvector corresponding to the eigenvalue \\( \\lambda \\).\n"
      ],
      "metadata": {
        "id": "clWVLeVvXQHb"
      }
    },
    {
      "cell_type": "markdown",
      "source": [
        "# 1.2.1 Linear spaces"
      ],
      "metadata": {
        "id": "w6cYwUF7dVAT"
      }
    },
    {
      "cell_type": "code",
      "source": [
        "import matplotlib.pyplot as plt\n",
        "import numpy as np\n",
        "import sympy as sp\n",
        "import random\n",
        "from IPython.display import display, Image"
      ],
      "metadata": {
        "id": "sIhKhdfqCGwj"
      },
      "execution_count": 2,
      "outputs": []
    },
    {
      "cell_type": "markdown",
      "source": [
        "1.2.1.1 Linear Combinations\n",
        "\n",
        "*   linear combinations in vectors"
      ],
      "metadata": {
        "id": "NCFlAEcK9SNM"
      }
    },
    {
      "cell_type": "code",
      "source": [
        "# Generate a random integer vector A of length 3 with values between 1 and 10\n",
        "A = np.random.randint(1, 10, 3)\n",
        "print(A)\n",
        "\n",
        "B = np.random.randint(1, 10, 3)\n",
        "print(B)\n",
        "\n",
        "C = np.random.randint(1, 10, 3)\n",
        "print(C)"
      ],
      "metadata": {
        "colab": {
          "base_uri": "https://localhost:8080/"
        },
        "id": "CjmvfODPBAeq",
        "outputId": "bd205b54-f8bc-476a-d14a-954f44487b02"
      },
      "execution_count": null,
      "outputs": [
        {
          "output_type": "stream",
          "name": "stdout",
          "text": [
            "[2 2 7]\n",
            "[8 5 2]\n",
            "[1 1 6]\n"
          ]
        }
      ]
    },
    {
      "cell_type": "code",
      "source": [
        "# Generate a random integer number\n",
        "x1 = random.randint(1,10)\n",
        "y1 = random.randint(1,10)\n",
        "z1 = random.randint(1,10)\n",
        "\n",
        "#Get the Linear Combination of Vector A, B and C\n",
        "Com = x1*A+y1*B+z1*C\n",
        "\n",
        "print(\"Linear Combination of Vector A,B an d C is\", Com)"
      ],
      "metadata": {
        "colab": {
          "base_uri": "https://localhost:8080/"
        },
        "id": "yt5Tg2TxCoE5",
        "outputId": "46cbc879-bb65-439f-f593-6dddb7d7125b"
      },
      "execution_count": null,
      "outputs": [
        {
          "output_type": "stream",
          "name": "stdout",
          "text": [
            "Linear Combination of Vector A,B an d C is [22 19 61]\n"
          ]
        }
      ]
    },
    {
      "cell_type": "markdown",
      "source": [
        "1.2.1.2 Linear dependence and independence"
      ],
      "metadata": {
        "id": "PCFGYkp0ER_G"
      }
    },
    {
      "cell_type": "code",
      "source": [
        "# Put A, B, C in a matrix\n",
        "matrix_np = np.column_stack([A, B, C])\n",
        "\n",
        "# Convert the numpy matrix to a sympy matrix\n",
        "matrix_sp = sp.Matrix(matrix_np)\n",
        "\n",
        "# Compute the RREF using sympy\n",
        "rref_matrix, pivot_columns = matrix_sp.rref()\n",
        "\n",
        "print(\"The RREF of the matrix is:\")\n",
        "sp.pprint(rref_matrix)\n",
        "\n",
        "#Determine dependence or indepence\n",
        "if len(pivot_columns) == matrix_sp.shape[1]:\n",
        "    print(\"The vectors are linearly independent.\")\n",
        "else:\n",
        "    print(\"The vectors are linearly dependent.\")\n",
        "\n"
      ],
      "metadata": {
        "colab": {
          "base_uri": "https://localhost:8080/"
        },
        "id": "YJ5qPngsDlpC",
        "outputId": "35233d01-1b91-414b-82ad-a5a19960b91c"
      },
      "execution_count": null,
      "outputs": [
        {
          "output_type": "stream",
          "name": "stdout",
          "text": [
            "The RREF of the matrix is:\n",
            "⎡1  0  0⎤\n",
            "⎢       ⎥\n",
            "⎢0  1  0⎥\n",
            "⎢       ⎥\n",
            "⎣0  0  1⎦\n",
            "The vectors are linearly independent.\n"
          ]
        }
      ]
    },
    {
      "cell_type": "markdown",
      "source": [
        "# 1.2.2 Orthogonality"
      ],
      "metadata": {
        "id": "8010hdW5X_Ls"
      }
    },
    {
      "cell_type": "markdown",
      "source": [
        "1.2.2.1 Orthonormal Bases\n",
        "\n",
        "\n",
        "*   Orthonormal Basis\n",
        "\n"
      ],
      "metadata": {
        "id": "CkE6AmebYFHl"
      }
    },
    {
      "cell_type": "code",
      "source": [
        "#get the dot product of A, B, C\n",
        "dot_product1 = np.dot(A, B)\n",
        "dot_product2 = np.dot(A, C)\n",
        "dot_product3 = np.dot(B, C)\n",
        "\n",
        "#get the norm of A, B, C\n",
        "normA = np.linalg.norm(A)\n",
        "normB = np.linalg.norm(B)\n",
        "normC = np.linalg.norm(B)\n",
        "\n",
        "#determine if they are orthogonality\n",
        "if dot_product1 == 0 and normA == 1 and normB == 1:\n",
        "    print(f\"The vectors are orthogonality.\")\n",
        "    print(f\"Norm of A and B are 1.\")\n",
        "else:\n",
        "    print(\"Dot product of A and B:\", dot_product1)\n",
        "\n",
        "if dot_product2 == 0 and normA == 1 and normC == 1:\n",
        "    print(f\"The vectors are orthogonality.\")\n",
        "    print(f\"Norm of A and C are 1.\")\n",
        "else:\n",
        "    print(\"Dot product of A and C:\", dot_product2)\n",
        "\n",
        "if dot_product3 == 0 and normB == 1 and normC == 1:\n",
        "    print(f\"The vectors are orthogonality.\")\n",
        "    print(f\"Norm of B and C are 1.\")\n",
        "else:\n",
        "    print(\"Dot product of B and C:\", dot_product3)"
      ],
      "metadata": {
        "colab": {
          "base_uri": "https://localhost:8080/"
        },
        "id": "Mgz4W_-qbYf9",
        "outputId": "8a1927a4-201d-44a7-f845-30758563ebb2"
      },
      "execution_count": null,
      "outputs": [
        {
          "output_type": "stream",
          "name": "stdout",
          "text": [
            "Dot product of A and B: 40\n",
            "Dot product of A and C: 46\n",
            "Dot product of B and C: 25\n"
          ]
        }
      ]
    },
    {
      "cell_type": "markdown",
      "source": [
        "1.2.2.2 Best Approximation Theorem"
      ],
      "metadata": {
        "id": "UzH44eVGmxe2"
      }
    },
    {
      "cell_type": "code",
      "source": [
        "def project(u1, v):\n",
        "    \"\"\"\n",
        "    Project vector u onto v\n",
        "    :param u: Vector u\n",
        "    :param v: Vector v\n",
        "    :return:\n",
        "    \"\"\"\n",
        "    return np.multiply((np.dot(u1, v) / np.dot(u1, u1)), u1)"
      ],
      "metadata": {
        "id": "ehKh51igtNfB"
      },
      "execution_count": null,
      "outputs": []
    },
    {
      "cell_type": "code",
      "source": [
        "# Generate a vector v\n",
        "v = np.array([2, 4])\n",
        "\n",
        "# Generate a subspace U spanned by u1\n",
        "u1 = np.array([2, 7])\n",
        "\n",
        "# Make u1 a unit vector\n",
        "u1_normalized = u1 / np.linalg.norm(u1)\n",
        "\n",
        "# Calculate the approximation\n",
        "v_star = project(u1_normalized, v)\n",
        "\n",
        "print(f\"Vector v:\",v)\n",
        "print(f\"Subspace U:\",u1)\n",
        "print(f\"Best approximation v* :\", v_star)\n"
      ],
      "metadata": {
        "colab": {
          "base_uri": "https://localhost:8080/"
        },
        "id": "aXFzSb4aorWJ",
        "outputId": "8d14f0f5-4482-49f6-9dac-d5b871b195d1"
      },
      "execution_count": null,
      "outputs": [
        {
          "output_type": "stream",
          "name": "stdout",
          "text": [
            "Vector v: [2 4]\n",
            "Subspace U: [2 7]\n",
            "Best approximation v* : [1.20754717 4.22641509]\n"
          ]
        }
      ]
    },
    {
      "cell_type": "markdown",
      "source": [
        "# 1.2.3. Gram–Schmidt process"
      ],
      "metadata": {
        "id": "k5hO6HnSou13"
      }
    },
    {
      "cell_type": "code",
      "source": [
        "\n",
        "# Get the a basis vector\n",
        "gs_A = A / np.linalg.norm(A)\n",
        "\n",
        "# Subtract the projection made the orthogonal\n",
        "proj_q = np.dot(B, gs_A) * gs_A\n",
        "b2 = B - proj_q\n",
        "\n",
        "# Get the other basis vector\n",
        "gs_B = b2 / np.linalg.norm(b2)\n",
        "\n",
        "print(f\"Gram-Schmidt Matrix of A:\", gs_A)\n",
        "print(f\"Gram-Schmidt Matrix of B:\", gs_B)\n"
      ],
      "metadata": {
        "colab": {
          "base_uri": "https://localhost:8080/"
        },
        "id": "9DdB26m1xHUg",
        "outputId": "2fd9d727-874f-4976-c1fd-b63668f026e5"
      },
      "execution_count": null,
      "outputs": [
        {
          "output_type": "stream",
          "name": "stdout",
          "text": [
            "Gram-Schmidt Matrix of A: [0.26490647 0.26490647 0.92717265]\n",
            "Gram-Schmidt Matrix of B: [ 0.81863607  0.44633083 -0.36141911]\n"
          ]
        }
      ]
    },
    {
      "cell_type": "markdown",
      "source": [
        "# 1.2.4. Eigenvalues and eigenvectors"
      ],
      "metadata": {
        "id": "ijxPbST0ovN_"
      }
    },
    {
      "cell_type": "code",
      "source": [
        "def generate_random_matrix(size: int = 3):\n",
        "    \"\"\"\n",
        "    Generates Random Square Matrix of given Size with Integers (0-99)\n",
        "    \"\"\"\n",
        "    return np.random.randint(0, 100, [size, size])"
      ],
      "metadata": {
        "id": "m-z3YChvyKMH"
      },
      "execution_count": null,
      "outputs": []
    },
    {
      "cell_type": "code",
      "source": [
        "matrix_size = 3\n",
        "\n",
        "# Generate a random 3x3 Matrix A\n",
        "A = generate_random_matrix(matrix_size)\n",
        "print(\"Random 3x3 Matrix A:\\n\", A)\n",
        "\n",
        "#Get eigenvalues and eigenvectors\n",
        "eigenvalues, eigenvectors = np.linalg.eig(A)\n",
        "\n",
        "print(f\"Eigenvalues of Matrix A:\",eigenvalues)\n",
        "print(f\"Eigenvectors of Matrix A:\",eigenvectors)"
      ],
      "metadata": {
        "colab": {
          "base_uri": "https://localhost:8080/"
        },
        "id": "IbZ4KWiL3Oqo",
        "outputId": "ffd17b0c-cf6a-44ae-e339-a0d6602df646"
      },
      "execution_count": null,
      "outputs": [
        {
          "output_type": "stream",
          "name": "stdout",
          "text": [
            "Random 3x3 Matrix A:\n",
            " [[41 28  3]\n",
            " [69 32  6]\n",
            " [28 35 26]]\n",
            "Eigenvalues of Matrix A: [85.34691771 -8.26816503 21.92124732]\n",
            "Eigenvectors of Matrix A: [[-0.45509693 -0.41753531 -0.07882992]\n",
            " [-0.65631462  0.7839175  -0.05294524]\n",
            " [-0.60177895 -0.45949714  0.99548111]]\n"
          ]
        }
      ]
    },
    {
      "cell_type": "markdown",
      "source": [
        "# 1.3.1. QR decomposition"
      ],
      "metadata": {
        "id": "lrhqsSoVXhta"
      }
    },
    {
      "cell_type": "code",
      "source": [
        "# Generate a random integer vector A, B of length 3 with values between 1 and 10\n",
        "A = np.random.randint(1, 10, 3)\n",
        "print(A)\n",
        "\n",
        "B = np.random.randint(1, 10, 3)\n",
        "print(B)"
      ],
      "metadata": {
        "colab": {
          "base_uri": "https://localhost:8080/"
        },
        "id": "DEOyii0wXjj-",
        "outputId": "3131b68f-7c6d-4602-fa19-39e7aad5ac50"
      },
      "execution_count": 3,
      "outputs": [
        {
          "output_type": "stream",
          "name": "stdout",
          "text": [
            "[1 8 1]\n",
            "[8 1 4]\n"
          ]
        }
      ]
    },
    {
      "cell_type": "code",
      "source": [
        "# Put A, B, C in a matrix\n",
        "matrix_x = np.column_stack([A, B])\n",
        "\n",
        "# Calculate the Orthogonal matrix (Q) and Upper triangular matrix (R)\n",
        "Q, R = np.linalg.qr(matrix_x)\n",
        "\n",
        "print(\"Orthogonal matrix of matrix X:\\n\",Q,\"\\n\")\n",
        "print(\"Upper triangular matrix of matrix X:\\n\",R)"
      ],
      "metadata": {
        "colab": {
          "base_uri": "https://localhost:8080/"
        },
        "id": "hz405wc3XpLH",
        "outputId": "e8b7378a-d286-41b4-ce8c-ca5d1b591123"
      },
      "execution_count": 4,
      "outputs": [
        {
          "output_type": "stream",
          "name": "stdout",
          "text": [
            "Orthogonal matrix of matrix X:\n",
            " [[-0.12309149  0.88912882]\n",
            " [-0.98473193 -0.16452384]\n",
            " [-0.12309149  0.42706188]] \n",
            "\n",
            "Upper triangular matrix of matrix X:\n",
            " [[-8.1240384  -2.46182982]\n",
            " [ 0.          8.65675424]]\n"
          ]
        }
      ]
    },
    {
      "cell_type": "markdown",
      "source": [
        "# 1.3.2. Least-squares problems"
      ],
      "metadata": {
        "id": "_pgei_yBXssM"
      }
    },
    {
      "cell_type": "markdown",
      "source": [
        "\n",
        "*   Using Normal Equations\n"
      ],
      "metadata": {
        "id": "8wanZ9QAXvCt"
      }
    },
    {
      "cell_type": "code",
      "source": [
        "# get a b using matrix x\n",
        "b = np.dot(matrix_x, np.random.rand(2))\n",
        "print(\"Vector b:\\n\",b)\n",
        "\n",
        "# Calculate martix X^T*X\n",
        "X_T_X = np.dot(matrix_x.T,matrix_x)\n",
        "print(\"X^T*X:\\n\",X_T_X)\n",
        "\n",
        "# Calculate matrix X^T * b\n",
        "X_T_b = np.dot(matrix_x.T,b)\n",
        "print(\"X^T*b:\\n\",X_T_b)\n",
        "\n",
        "# Calculate the Least-squares solution\n",
        "ls_1 = np.linalg.solve(X_T_X, X_T_b)\n",
        "\n",
        "print(\"\\nLeast-squares solution of matrix x using normal equation:\\n\",ls)\n"
      ],
      "metadata": {
        "colab": {
          "base_uri": "https://localhost:8080/"
        },
        "id": "9-UE9bz6k-Wg",
        "outputId": "be3ebc12-802c-47e2-8c22-18196c21b32b"
      },
      "execution_count": null,
      "outputs": [
        {
          "output_type": "stream",
          "name": "stdout",
          "text": [
            "Vector b:\n",
            " [4.32266691 7.72675152 2.88177794]\n",
            "X^T*X:\n",
            " [[101  89]\n",
            " [ 89  94]]\n",
            "X^T*b:\n",
            " [91.5503739  88.27232033]\n",
            "\n",
            "Least-squares solution of matrix x using normal equation:\n",
            " [0.6272272  0.64108724]\n"
          ]
        }
      ]
    },
    {
      "cell_type": "markdown",
      "source": [
        "\n",
        "*   Using QR Decomposition\n",
        "\n"
      ],
      "metadata": {
        "id": "s-VWL0irI5h8"
      }
    },
    {
      "cell_type": "code",
      "source": [
        "#Calculate Q^T*b\n",
        "Q_T_b = np.dot(Q.T, b)\n",
        "ls_2 = np.linalg.solve(R, Q_T_b)\n",
        "\n",
        "print(\"\\nLeast-squares solution of matrix x using QR Decomposition:\\n\",ls)"
      ],
      "metadata": {
        "colab": {
          "base_uri": "https://localhost:8080/"
        },
        "id": "WIggodlnI49i",
        "outputId": "b78e490c-a5fe-4476-97fb-4078321e44a6"
      },
      "execution_count": null,
      "outputs": [
        {
          "output_type": "stream",
          "name": "stdout",
          "text": [
            "\n",
            "Least-squares solution of matrix x using QR Decomposition:\n",
            " [0.6272272  0.64108724]\n"
          ]
        }
      ]
    },
    {
      "cell_type": "markdown",
      "source": [
        "# 1.3.3. Linear regression"
      ],
      "metadata": {
        "id": "v3y8jP0Rk-_0"
      }
    },
    {
      "cell_type": "code",
      "source": [
        "# Generate a random integer array beta of length n with values between 1 and 10\n",
        "beta = np.random.uniform(1, 10, 2)\n",
        "\n",
        "# Get random x value\n",
        "x = np.random.rand(100)\n",
        "\n",
        "# Get the actual y line\n",
        "y_line = round(beta[0])+round(beta[1])*x\n",
        "y = y_line + np.random.randn(100)\n",
        "\n",
        "# Made the predicition x value\n",
        "x_pred = np.linspace(0, 2, 100)\n",
        "\n",
        "# Prediciton y value by beta\n",
        "y_pred = beta[0] + beta[1] * x_pred\n",
        "\n",
        "# Made the linear regression plot\n",
        "plt.scatter(x, y, label=\"Data\", alpha=0.5, color = \"red\")\n",
        "plt.plot(x_pred, y_pred, label=f\"y = {beta[0]:.2f} + {beta[1]:.2f}x\", color = \"black\")\n",
        "plt.xlabel(\"x\")\n",
        "plt.ylabel(\"y\")\n",
        "plt.title(\"Plot of Linear Regression\")\n",
        "plt.legend()\n",
        "plt.show()\n"
      ],
      "metadata": {
        "colab": {
          "base_uri": "https://localhost:8080/",
          "height": 472
        },
        "id": "WhKhV-hUE_pN",
        "outputId": "c914be3a-f7ab-4df3-b7bd-972183230c96"
      },
      "execution_count": null,
      "outputs": [
        {
          "output_type": "display_data",
          "data": {
            "text/plain": [
              "<Figure size 640x480 with 1 Axes>"
            ],
            "image/png": "[encoded data removed]"
          },
          "metadata": {}
        }
      ]
    },
    {
      "cell_type": "code",
      "source": [
        "import matplotlib.pyplot as plt\n",
        "import numpy as np\n",
        "import sympy as sp\n",
        "import random\n",
        "from IPython.display import display, Image"
      ],
      "metadata": {
        "id": "eksr8dtzntJC"
      },
      "execution_count": null,
      "outputs": []
    },
    {
      "cell_type": "markdown",
      "source": [
        "# 1.4.1. Singular value decomposition"
      ],
      "metadata": {
        "id": "m31Jxtk7jaas"
      }
    },
    {
      "cell_type": "code",
      "source": [
        "# Generate a random integer vector A of length 3 with values between 1 and 10\n",
        "A = np.random.randint(1, 10, 3)\n",
        "print(A)\n",
        "\n",
        "B = np.random.randint(1, 10, 3)\n",
        "print(B)"
      ],
      "metadata": {
        "colab": {
          "base_uri": "https://localhost:8080/"
        },
        "id": "QhhKC03ijuFR",
        "outputId": "cf0c6b80-66a0-4957-d97d-f6319fae2f65"
      },
      "execution_count": null,
      "outputs": [
        {
          "output_type": "stream",
          "name": "stdout",
          "text": [
            "[4 6 3]\n",
            "[8 1 6]\n"
          ]
        }
      ]
    },
    {
      "cell_type": "code",
      "source": [
        "# Put A, B in a matrix\n",
        "matrix_x = np.column_stack([A, B])\n",
        "\n",
        "# Calculate martix X^T*X\n",
        "X_T_X = np.dot(matrix_x, matrix_x.T)\n",
        "print(\"X^T*X:\\n\",X_T_X)\n",
        "\n",
        "# Calculate martix X^T*X\n",
        "X_T_X = np.dot(matrix_x.T,matrix_x)\n",
        "print(\"X^T*X:\\n\",X_T_X)\n",
        "\n",
        "# Calculate eigenvalues and eigenvectors\n",
        "eigenvalues, eigenvectors = np.linalg.eig(X_T_X)\n",
        "print(\"Eigenvalues of martix X:\\n\", eigenvalues)\n",
        "print(\"Eigenvectors of martix X:\\n\", eigenvectors)\n",
        "\n",
        "# Calculate Singular values of matrix X\n",
        "S = np.sqrt(eigenvalues)\n",
        "print(\"Singular values of matrix X:\\n\",S)\n",
        "\n",
        "# Right singular vectors\n",
        "print(\"Matrix V:\\n\",eigenvectors)\n",
        "\n",
        "# Calculate Left singular vectors of matrix X\n",
        "U = np.dot(matrix_x, eigenvalues) / S[1]\n",
        "print(\"Matrix U:\\n\",U)\n",
        "\n",
        "# Calculate the reconstructed matrix\n",
        "Sigma = np.zeros((matrix_x.shape[0], matrix_x.shape[1]))\n",
        "np.fill_diagonal(Sigma, S)\n",
        "B_reconstructed = np.dot(U, np.dot(Sigma, eigenvectors))\n",
        "print(\"Reconstructed matrix B:\\n\", B_reconstructed)\n"
      ],
      "metadata": {
        "colab": {
          "base_uri": "https://localhost:8080/"
        },
        "id": "b1aUGBztp34L",
        "outputId": "963ca471-d361-4cbe-9d60-7ed35d16e312"
      },
      "execution_count": null,
      "outputs": [
        {
          "output_type": "stream",
          "name": "stdout",
          "text": [
            "X^T*X:\n",
            " [[61 49 41 48]\n",
            " [49 41 29 42]\n",
            " [41 29 37 24]\n",
            " [48 42 24 45]]\n",
            "X^T*X:\n",
            " [[97 74]\n",
            " [74 87]]\n",
            "Eigenvalues of martix X:\n",
            " [166.16872656  17.83127344]\n",
            "Eigenvectors of martix X:\n",
            " [[ 0.73055248 -0.68285655]\n",
            " [ 0.68285655  0.73055248]]\n",
            "Singular values of matrix X:\n",
            " [12.89064492  4.22270925]\n",
            "Matrix V:\n",
            " [[ 0.73055248 -0.68285655]\n",
            " [ 0.68285655  0.73055248]]\n",
            "Matrix U:\n",
            " [257.22081759 178.51839382 240.32998058 143.38989118]\n",
            "Reconstructed matrix B:\n",
            " [ 2937.08233789 -1713.46299738]\n"
          ]
        }
      ]
    },
    {
      "cell_type": "markdown",
      "source": [
        "# 1.4.2. Low-rank matrix approximations"
      ],
      "metadata": {
        "id": "8-QIs-xxjbGy"
      }
    },
    {
      "cell_type": "code",
      "source": [
        "# Generate a random integer vector A of length 3 with values between 1 and 10\n",
        "A = np.random.randint(1, 10, 4)\n",
        "\n",
        "B = np.random.randint(1, 10, 4)\n",
        "\n",
        "C = np.random.randint(1, 10, 4)\n",
        "\n",
        "D = np.random.randint(1, 10, 4)\n",
        "\n",
        "# Put A, B, C, D in a matrix\n",
        "matrix_y = np.column_stack([A, B, C, D])\n",
        "print(\"Matrix Y:\\n\", matrix_y)"
      ],
      "metadata": {
        "colab": {
          "base_uri": "https://localhost:8080/"
        },
        "id": "ko7BE4TUNhqN",
        "outputId": "21abd408-570b-424c-8ab0-9dce921cf10a"
      },
      "execution_count": null,
      "outputs": [
        {
          "output_type": "stream",
          "name": "stdout",
          "text": [
            "Matrix Y:\n",
            " [[5 1 9 7]\n",
            " [1 3 3 5]\n",
            " [6 7 5 9]\n",
            " [9 4 3 7]]\n"
          ]
        }
      ]
    },
    {
      "cell_type": "code",
      "source": [
        "# Calculate U, S, V for the matrix y\n",
        "U2, S2, V2 = np.linalg.svd(matrix_y)\n",
        "\n",
        "# Calculate the low-rank approximation of matrix y\n",
        "S_approx = np.zeros_like(matrix_y)\n",
        "np.fill_diagonal(S_approx, S2[:2])\n",
        "Y_approx = np.dot(U2, np.dot(S_approx, V2))\n",
        "print(\"Low-Rank Approximation of Martix Y:\\n\", Y_approx)"
      ],
      "metadata": {
        "colab": {
          "base_uri": "https://localhost:8080/"
        },
        "id": "EpnsPpQJjud2",
        "outputId": "9be011ce-c3a8-4dc2-9afd-7341d3a68895"
      },
      "execution_count": null,
      "outputs": [
        {
          "output_type": "stream",
          "name": "stdout",
          "text": [
            "Low-Rank Approximation of Martix Y:\n",
            " [[ 8.5202283  -0.84352547  8.41459735  5.45307794]\n",
            " [-7.43187215  6.97578791  1.87529457 10.2578222 ]\n",
            " [-0.40489583 12.9061884   6.41962303  9.67272332]\n",
            " [17.08240597 -3.16392512  2.34923973  4.76171832]]\n"
          ]
        }
      ]
    },
    {
      "cell_type": "markdown",
      "source": [
        "# 1.4.3. Principal component analysis"
      ],
      "metadata": {
        "id": "MyM9Pa7YjbMF"
      }
    },
    {
      "cell_type": "markdown",
      "source": [
        "1.4.3.1 Covariance Matrix"
      ],
      "metadata": {
        "id": "m-Y812qAP_gp"
      }
    },
    {
      "cell_type": "code",
      "execution_count": null,
      "metadata": {
        "colab": {
          "base_uri": "https://localhost:8080/"
        },
        "id": "28BpIYQIjUVw",
        "outputId": "deb1c387-9deb-45cb-bed8-810510414da5"
      },
      "outputs": [
        {
          "output_type": "stream",
          "name": "stdout",
          "text": [
            "Matrix Z:\n",
            " [[0.01326496 0.94220176 0.56328822 0.3854165 ]\n",
            " [0.01596625 0.23089383 0.24102547 0.68326352]\n",
            " [0.60999666 0.83319491 0.17336465 0.39106061]\n",
            " [0.18223609 0.75536141 0.42515587 0.20794166]]\n"
          ]
        }
      ],
      "source": [
        "# Generate a 4x4 matrix with random values from 0 to 1\n",
        "matrix_z = np.random.rand(4, 4)\n",
        "print(\"Matrix Z:\\n\", matrix_z)"
      ]
    },
    {
      "cell_type": "code",
      "source": [
        "# Changed X to matrix_z\n",
        "mean_X = np.mean(matrix_z, axis=0)\n",
        "X_centered = matrix_z - mean_X\n",
        "cov_matrix = np.dot(X_centered.T, X_centered) / (matrix_z.shape[0] - 1)\n",
        "print(\"Covariance Matrix:\\n\", cov_matrix)"
      ],
      "metadata": {
        "colab": {
          "base_uri": "https://localhost:8080/"
        },
        "id": "eIJziditUn_b",
        "outputId": "6e848cac-058e-4bff-966a-40a5ef8bda46"
      },
      "execution_count": null,
      "outputs": [
        {
          "output_type": "stream",
          "name": "stdout",
          "text": [
            "Covariance Matrix:\n",
            " [[ 0.07901201  0.03164521 -0.03118119 -0.01667446]\n",
            " [ 0.03164521  0.09972014  0.02781346 -0.04919575]\n",
            " [-0.03118119  0.02781346  0.03140459 -0.01562742]\n",
            " [-0.01667446 -0.04919575 -0.01562742  0.03875733]]\n"
          ]
        }
      ]
    },
    {
      "cell_type": "markdown",
      "source": [
        "1.4.3.2 Principal Component Analysis"
      ],
      "metadata": {
        "id": "bjYO4HEfQJE8"
      }
    },
    {
      "cell_type": "code",
      "source": [
        "# Compute the eigenvalues, eigenvectors\n",
        "eigenvalues, eigenvectors = np.linalg.eig(cov_matrix)\n",
        "print(\"Eigenvalues of martix Z:\\n\", eigenvalues)\n",
        "print(\"Eigenvectors of martix Z:\\n\",eigenvectors)\n",
        "\n",
        "# Compute projected data\n",
        "Z_c = np.dot(X_centered, eigenvectors)\n",
        "print(\"Data Projected:\\n\", Z_c)"
      ],
      "metadata": {
        "colab": {
          "base_uri": "https://localhost:8080/"
        },
        "id": "sRL_o182QOeD",
        "outputId": "5ce218a4-c8ac-4b8a-97bb-258bbcc1e407"
      },
      "execution_count": null,
      "outputs": [
        {
          "output_type": "stream",
          "name": "stdout",
          "text": [
            "Eigenvalues of martix Z:\n",
            " [ 1.48054126e-01  8.94744949e-02 -8.94028952e-18  1.13654476e-02]\n",
            "[[-0.40535492 -0.78177748 -0.47380906  0.00404212]\n",
            " [-0.79057111  0.2262001   0.30721229  0.4790109 ]\n",
            " [-0.1387617   0.56484005 -0.81304401  0.02569719]\n",
            " [ 0.43752702 -0.13643023 -0.14172164  0.87742343]]\n",
            "Eigenvectors (Principal Components):\n",
            " [[-0.40535492 -0.78177748  0.00404212 -0.47380906]\n",
            " [-0.79057111  0.2262001   0.4790109   0.30721229]\n",
            " [-0.1387617   0.56484005  0.02569719 -0.81304401]\n",
            " [ 0.43752702 -0.13643023  0.87742343 -0.14172164]]\n",
            "Data Projected onto Principal Components:\n",
            " [[-1.64469637e-01  3.31506522e-01  9.76533655e-02 -1.45152178e-16]\n",
            " [ 5.71808729e-01 -5.41654611e-02  9.99673608e-03  1.55501989e-16]\n",
            " [-2.63604199e-01 -3.80676710e-01  4.27822891e-02 -1.41944429e-16]\n",
            " [-1.43734893e-01  1.03335649e-01 -1.50432391e-01  4.68366715e-17]]\n"
          ]
        }
      ]
    }
  ]
}
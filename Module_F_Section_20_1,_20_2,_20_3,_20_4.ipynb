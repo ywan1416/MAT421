{
  "nbformat": 4,
  "nbformat_minor": 0,
  "metadata": {
    "colab": {
      "provenance": [],
      "toc_visible": true,
      "authorship_tag": "ABX9TyPMzL8MB9A2F9VuELP46Ul3",
      "include_colab_link": true
    },
    "kernelspec": {
      "name": "python3",
      "display_name": "Python 3"
    },
    "language_info": {
      "name": "python"
    }
  },
  "cells": [
    {
      "cell_type": "markdown",
      "metadata": {
        "id": "view-in-github",
        "colab_type": "text"
      },
      "source": [
        "<a href=\"https://colab.research.google.com/github/ywan1416/MAT421/blob/main/Module_F_Section_20_1%2C_20_2%2C_20_3%2C_20_4.ipynb\" target=\"_parent\"><img src=\"https://colab.research.google.com/assets/colab-badge.svg\" alt=\"Open In Colab\"/></a>"
      ]
    },
    {
      "cell_type": "markdown",
      "source": [
        "# Numerical Differentiation Problem Statement"
      ],
      "metadata": {
        "id": "jcuEp-_imTXg"
      }
    },
    {
      "cell_type": "markdown",
      "source": [
        "Numerical Grid\n",
        "The step size of the numerical grid is the distance between adjacent points, denoted as \\( h \\). Mathematically, this can be written as:\n",
        "\n",
        "$h = x_j - x_{j-1}$\n",
        "\n",
        "where \\( x_j \\) represents the \\( j \\)-th grid point.\n"
      ],
      "metadata": {
        "id": "XcpL0M_HmZba"
      }
    },
    {
      "cell_type": "code",
      "source": [
        "import numpy as np\n",
        "\n",
        "# Define the function f(x) = sin(x)\n",
        "def f(x):\n",
        "    return np.sin(x)\n",
        "\n",
        "# Define numerical differentiation (forward difference)\n",
        "def derivative(f, x, h):\n",
        "    return (f(x + h) - f(x)) / h\n",
        "\n",
        "# Choose a point to differentiate at\n",
        "x = np.pi / 4  # Example: x = π/4\n",
        "h = 0.01       # Step size\n",
        "\n",
        "# Compute the numerical derivative\n",
        "numerical_derivative = derivative(f, x, h)\n",
        "\n",
        "# Compute the actual derivative (cos(x))\n",
        "actual_derivative = np.cos(x)\n",
        "\n",
        "# Print results\n",
        "print(f\"Numerical derivative at x = {x}: {numerical_derivative}\")\n",
        "print(f\"Actual derivative at x = {x}: {actual_derivative}\")\n"
      ],
      "metadata": {
        "colab": {
          "base_uri": "https://localhost:8080/"
        },
        "id": "EitedgIfmYn6",
        "outputId": "c86a0858-b6df-4560-c47f-c282840fceea"
      },
      "execution_count": 3,
      "outputs": [
        {
          "output_type": "stream",
          "name": "stdout",
          "text": [
            "Numerical derivative at x = 0.7853981633974483: 0.7035594916892096\n",
            "Actual derivative at x = 0.7853981633974483: 0.7071067811865476\n"
          ]
        }
      ]
    },
    {
      "cell_type": "markdown",
      "source": [
        "# Finite Difference Approximating Derivatives"
      ],
      "metadata": {
        "id": "shEI9H60mTec"
      }
    },
    {
      "cell_type": "markdown",
      "source": [
        "Forward Difference\n",
        "\n",
        "The forward difference formula uses the current point \\( x_j \\) and the next point \\( x_{j+1} \\) to approximate the derivative\n",
        "\n",
        "$f'(x_j) \\approx \\frac{f(x_{j+1}) - f(x_j)}{h}$"
      ],
      "metadata": {
        "id": "BRnAyqrZoZS0"
      }
    },
    {
      "cell_type": "markdown",
      "source": [
        "Backward Difference\n",
        "\n",
        "The backward difference formula uses the current point \\( x_j \\) and the previous point \\( x_{j-1} \\) to approximate the derivative:\n",
        "\n",
        "$f'(x_j) \\approx \\frac{f(x_j) - f(x_{j-1})}{h}$"
      ],
      "metadata": {
        "id": "5BMX13ZYoZdl"
      }
    },
    {
      "cell_type": "markdown",
      "source": [
        "Central Difference\n",
        "\n",
        "The central difference formula uses the points \\( x_{j+1} \\) and \\( x_{j-1} \\) to approximate the derivative:\n",
        "\n",
        "$f'(x_j) \\approx \\frac{f(x_{j+1}) - f(x_{j-1})}{2h}$"
      ],
      "metadata": {
        "id": "uxbX18cNoZWr"
      }
    },
    {
      "cell_type": "code",
      "execution_count": 6,
      "metadata": {
        "colab": {
          "base_uri": "https://localhost:8080/"
        },
        "id": "CRA2FX4sl8QS",
        "outputId": "c042ea60-9490-4be2-fa4d-5fc123ac1af4"
      },
      "outputs": [
        {
          "output_type": "stream",
          "name": "stdout",
          "text": [
            "x values: [0. 1. 2. 3. 4. 5. 6. 7. 8. 9.]\n",
            "Numerical derivative (forward difference): [ 1.  3.  5.  7.  9. 11. 13. 15. 17. 19.]\n"
          ]
        }
      ],
      "source": [
        "import numpy as np\n",
        "\n",
        "# Define the function f(x) = x^2\n",
        "def f(x):\n",
        "    return x**2\n",
        "\n",
        "# Define x values (numerical grid)\n",
        "x = np.linspace(0, 10, 11)  # Generate 11 points from 0 to 10\n",
        "h = x[1] - x[0]  # Step size\n",
        "\n",
        "# Compute forward difference approximation\n",
        "df_forward = np.diff(f(x)) / h  # np.diff computes f(x[i+1]) - f(x[i])\n",
        "\n",
        "# Compute corresponding x values for the derivative (exclude last point)\n",
        "x_diff = x[:-1]\n",
        "\n",
        "# Print results\n",
        "print(\"x values:\", x_diff)\n",
        "print(\"Numerical derivative (forward difference):\", df_forward)\n"
      ]
    },
    {
      "cell_type": "markdown",
      "source": [
        "# Approximating of Higher Order Derivatives"
      ],
      "metadata": {
        "id": "BsPfIqVBmXh3"
      }
    },
    {
      "cell_type": "markdown",
      "source": [
        "Taylor Expansion\n",
        "\n",
        "$f(x_{j+1}) = f(x_j) + h f'(x_j) + \\frac{h^2}{2} f''(x_j) + \\frac{h^3}{6} f'''(x_j) + \\cdots$\n"
      ],
      "metadata": {
        "id": "LzVjnF34pqyy"
      }
    },
    {
      "cell_type": "markdown",
      "source": [
        "Second Order Derivative\n",
        "\n",
        "$f(x_{j+1}) + f(x_{j-1}) = 2f(x_j) + h^2 f''(x_j) + O(h^4)$\n",
        "\n",
        "\n",
        "Equivalent step size:\n",
        "When h changes, the error decreases relatively quickly."
      ],
      "metadata": {
        "id": "HCZKwOFlp84j"
      }
    },
    {
      "cell_type": "code",
      "source": [
        "import numpy as np\n",
        "\n",
        "def f(x):\n",
        "    return np.sin(x)\n",
        "\n",
        "x = np.linspace(0, 2*np.pi, 100)\n",
        "h = x[1] - x[0]\n",
        "\n",
        "f_values = f(x)\n",
        "second_derivative = (np.roll(f_values, -1) - 2 * f_values + np.roll(f_values, 1)) / h**2\n",
        "\n",
        "print(\"Second derivative approximation at some points:\", second_derivative[:5])\n"
      ],
      "metadata": {
        "colab": {
          "base_uri": "https://localhost:8080/"
        },
        "id": "cioc-_aVpjSW",
        "outputId": "9f53d8fb-0a98-4c55-dac0-28929ba10556"
      },
      "execution_count": 8,
      "outputs": [
        {
          "output_type": "stream",
          "name": "stdout",
          "text": [
            "Second derivative approximation at some points: [15.74576374 -0.06340263 -0.12654997 -0.18918773 -0.2510637 ]\n"
          ]
        }
      ]
    }
  ]
}
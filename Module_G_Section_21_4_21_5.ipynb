{
  "nbformat": 4,
  "nbformat_minor": 0,
  "metadata": {
    "colab": {
      "provenance": [],
      "toc_visible": true,
      "authorship_tag": "ABX9TyM8oW9ME04LKnlPeuS5hV1u",
      "include_colab_link": true
    },
    "kernelspec": {
      "name": "python3",
      "display_name": "Python 3"
    },
    "language_info": {
      "name": "python"
    }
  },
  "cells": [
    {
      "cell_type": "markdown",
      "metadata": {
        "id": "view-in-github",
        "colab_type": "text"
      },
      "source": [
        "<a href=\"https://colab.research.google.com/github/ywan1416/MAT421/blob/main/Module_G_Section_21_4_21_5.ipynb\" target=\"_parent\"><img src=\"https://colab.research.google.com/assets/colab-badge.svg\" alt=\"Open In Colab\"/></a>"
      ]
    },
    {
      "cell_type": "markdown",
      "source": [
        "# Simpson's Rule"
      ],
      "metadata": {
        "id": "akwm3q5ogZP8"
      }
    },
    {
      "cell_type": "markdown",
      "source": [
        "A method for approximating the definite integral of a function. It improves upon simpler methods like the rectangle or trapezoid rule by approximating sections of the curve using parabolas instead of straight lines.\n",
        "\n"
      ],
      "metadata": {
        "id": "OvIAXQSPgaTC"
      }
    },
    {
      "cell_type": "code",
      "execution_count": 1,
      "metadata": {
        "colab": {
          "base_uri": "https://localhost:8080/"
        },
        "id": "Vvah6NGafUfX",
        "outputId": "5ff3459b-c74f-4831-b211-c459095f4ce5"
      },
      "outputs": [
        {
          "output_type": "stream",
          "name": "stdout",
          "text": [
            "Simpson's Rule Approximation: 2.0001095173150043\n",
            "Error: -0.00010951731500430384\n"
          ]
        }
      ],
      "source": [
        "import numpy as np\n",
        "\n",
        "# Define the interval and number of points (must be odd)\n",
        "a = 0\n",
        "b = np.pi\n",
        "n = 11  # => 10 intervals, which is even (good!)\n",
        "\n",
        "# Step size\n",
        "h = (b - a) / (n - 1)\n",
        "\n",
        "# Generate x values and f(x) = sin(x)\n",
        "x = np.linspace(a, b, n)\n",
        "f = np.sin(x)\n",
        "\n",
        "# Apply Simpson's Rule\n",
        "I_simp = (h/3) * (f[0] + 2 * sum(f[2:n-2:2]) + 4 * sum(f[1:n-1:2]) + f[n-1])\n",
        "\n",
        "# Compare to exact value\n",
        "exact = 2\n",
        "error = exact - I_simp\n",
        "\n",
        "print(\"Simpson's Rule Approximation:\", I_simp)\n",
        "print(\"Error:\", error)"
      ]
    }
  ]
}
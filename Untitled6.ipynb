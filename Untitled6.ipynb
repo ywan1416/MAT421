{
  "nbformat": 4,
  "nbformat_minor": 0,
  "metadata": {
    "colab": {
      "provenance": [],
      "toc_visible": true,
      "authorship_tag": "ABX9TyP0cj3ELqJK0jRF3Kmkx8Zs",
      "include_colab_link": true
    },
    "kernelspec": {
      "name": "python3",
      "display_name": "Python 3"
    },
    "language_info": {
      "name": "python"
    }
  },
  "cells": [
    {
      "cell_type": "markdown",
      "metadata": {
        "id": "view-in-github",
        "colab_type": "text"
      },
      "source": [
        "<a href=\"https://colab.research.google.com/github/ywan1416/MAT421/blob/main/Untitled6.ipynb\" target=\"_parent\"><img src=\"https://colab.research.google.com/assets/colab-badge.svg\" alt=\"Open In Colab\"/></a>"
      ]
    },
    {
      "cell_type": "markdown",
      "source": [
        "# Numerical Integration Problem Statement"
      ],
      "metadata": {
        "id": "pjIOAW5TjqJY"
      }
    },
    {
      "cell_type": "markdown",
      "source": [
        "We assume that we have a function $f(x)$ that can be computed for any of the grid points, or that we have been given the function implicitly as $f(x_i)$.\n",
        "\n",
        "Each subinterval $[x_i, x_{i+1}]$ contributes to the numerical approximation of the integral. Different numerical methods approximate the area under $f(x)$ for each subinterval using simple geometric shapes, for which the exact area can be easily computed. The total integral is then approximated by summing the contributions of all subintervals."
      ],
      "metadata": {
        "id": "ZDrmDm7Rjp8G"
      }
    },
    {
      "cell_type": "code",
      "execution_count": 1,
      "metadata": {
        "colab": {
          "base_uri": "https://localhost:8080/"
        },
        "id": "egqEn-rsjizt",
        "outputId": "36bfbfc8-fa55-4e5a-a648-e51d924fbb59"
      },
      "outputs": [
        {
          "output_type": "stream",
          "name": "stdout",
          "text": [
            "Approximate integral: 2.6800000000000006\n"
          ]
        }
      ],
      "source": [
        "import numpy as np\n",
        "\n",
        "# Define the function to integrate\n",
        "def f(x):\n",
        "    return x**2  # Example: f(x) = x^2\n",
        "\n",
        "# Numerical integration using the Trapezoidal Rule\n",
        "def trapezoidal_rule(a, b, n):\n",
        "    h = (b - a) / n  # Step size\n",
        "    x = np.linspace(a, b, n+1)  # Grid points\n",
        "    y = f(x)  # Evaluate function at grid points\n",
        "\n",
        "    # Apply Trapezoidal Rule formula\n",
        "    integral = (h / 2) * (y[0] + 2 * np.sum(y[1:-1]) + y[-1])\n",
        "\n",
        "    return integral\n",
        "\n",
        "# Example usage\n",
        "a = 0  # Start of interval\n",
        "b = 2  # End of interval\n",
        "n = 10  # Number of subintervals\n",
        "\n",
        "result = trapezoidal_rule(a, b, n)\n",
        "print(f\"Approximate integral: {result}\")"
      ]
    },
    {
      "cell_type": "markdown",
      "source": [
        "# Riemann’s Integral"
      ],
      "metadata": {
        "id": "8H_5b4A4jr0H"
      }
    },
    {
      "cell_type": "markdown",
      "source": [
        "Left and Right Riemann Sums\n",
        "\n",
        "An obvious choice for the height of the rectangles is the function value at the left endpoint $x_i $, or the right endpoint $x_{i+1}$, leading to two approximations:\n",
        "$\\int_a^b f(x) \\,dx \\approx h \\sum_{i=0}^{n-1} f(x_i)$."
      ],
      "metadata": {
        "id": "oWqR7B9cl_3X"
      }
    },
    {
      "cell_type": "markdown",
      "source": [
        "Error Analysis\n",
        "\n",
        "$h f(x_i)$ is the Riemann sum approximation, the error term is $O(h^2)$. Summing over all subintervals, the total error is:$O(n h^2) = O(h)$\n",
        "\n",
        "where $h = \\frac{b-a}{n}$, showing that the Riemann integral has an overall accuracy of $O(h)$."
      ],
      "metadata": {
        "id": "LEfqBsndl_-z"
      }
    },
    {
      "cell_type": "markdown",
      "source": [
        "Midpoint Rule\n",
        "The Midpoint Rule achieves an accuracy of $O(h^2)$, which is an improvement over the Riemann sum."
      ],
      "metadata": {
        "id": "V4YjLO4RmAFP"
      }
    },
    {
      "cell_type": "code",
      "source": [
        "import numpy as np\n",
        "\n",
        "# Define the function to integrate\n",
        "def f(x):\n",
        "    return x**2  # Example: f(x) = x^2\n",
        "\n",
        "# Left Riemann Sum function\n",
        "def left_riemann_sum(a, b, n):\n",
        "    h = (b - a) / n  # Step size\n",
        "    x = np.linspace(a, b, n, endpoint=False)  # Left endpoints\n",
        "    integral = h * np.sum(f(x))  # Sum the areas of the rectangles\n",
        "    return integral\n",
        "\n",
        "# Example usage\n",
        "a = 0  # Start of interval\n",
        "b = 2  # End of interval\n",
        "n = 10  # Number of subintervals\n",
        "\n",
        "result = left_riemann_sum(a, b, n)\n",
        "print(f\"Approximate integral using Left Riemann Sum: {result}\")"
      ],
      "metadata": {
        "colab": {
          "base_uri": "https://localhost:8080/"
        },
        "id": "6SCqMJKYoB2g",
        "outputId": "14329550-6b5c-49b3-81d9-0c51ff2978de"
      },
      "execution_count": 2,
      "outputs": [
        {
          "output_type": "stream",
          "name": "stdout",
          "text": [
            "Approximate integral using Left Riemann Sum: 2.2800000000000007\n"
          ]
        }
      ]
    },
    {
      "cell_type": "markdown",
      "source": [
        "# Trapezoid Rule"
      ],
      "metadata": {
        "id": "pzoT1GWdjtMJ"
      }
    },
    {
      "cell_type": "markdown",
      "source": [
        "Efficient Computation\n",
        "\n",
        "Write in a computationally efficient form:$\\int_a^b f(x)dx \\approx \\frac{h}{2} \\left[ f(x_0) + 2 \\sum_{i=1}^{n-1} f(x_i) + f(x_n) \\right]$\n"
      ],
      "metadata": {
        "id": "GNKtu0cRoKl8"
      }
    },
    {
      "cell_type": "markdown",
      "source": [
        "Error Analysis\n",
        "\n",
        "Using Taylor series expansion, the error of the Trapezoid Rule is found to be: $E = O(h^2)$"
      ],
      "metadata": {
        "id": "6pUtlOkAoohV"
      }
    },
    {
      "cell_type": "code",
      "source": [],
      "metadata": {
        "id": "UwgN-6U-oK8V"
      },
      "execution_count": null,
      "outputs": []
    }
  ]
}